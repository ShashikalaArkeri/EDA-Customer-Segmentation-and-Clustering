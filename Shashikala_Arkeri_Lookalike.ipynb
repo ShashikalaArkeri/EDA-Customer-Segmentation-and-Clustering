{
 "cells": [
  {
   "cell_type": "code",
   "execution_count": 65,
   "id": "832f53ef-ac74-460c-86ea-35f9e04e00d1",
   "metadata": {},
   "outputs": [],
   "source": [
    "# Importing library\n",
    "import pandas as pd"
   ]
  },
  {
   "cell_type": "code",
   "execution_count": 66,
   "id": "11d896d0-a19a-46cf-bbfc-201f2d066692",
   "metadata": {},
   "outputs": [],
   "source": [
    "# Loading the datasets from local files\n",
    "customers = pd.read_csv(r\"C:\\Users\\Windows 10\\Downloads\\Customers.csv\")\n",
    "products = pd.read_csv(r\"C:\\Users\\Windows 10\\Downloads\\Products.csv\")\n",
    "transactions = pd.read_csv(r\"C:\\Users\\Windows 10\\Downloads\\Transactions.csv\")"
   ]
  },
  {
   "cell_type": "code",
   "execution_count": 67,
   "id": "f4a8e133-21c0-4ee6-b7d9-47e9df18d7c3",
   "metadata": {},
   "outputs": [
    {
     "name": "stdout",
     "output_type": "stream",
     "text": [
      "  CustomerID        CustomerName         Region  SignupDate\n",
      "0      C0001    Lawrence Carroll  South America  2022-07-10\n",
      "1      C0002      Elizabeth Lutz           Asia  2022-02-13\n",
      "2      C0003      Michael Rivera  South America  2024-03-07\n",
      "3      C0004  Kathleen Rodriguez  South America  2022-10-09\n",
      "4      C0005         Laura Weber           Asia  2022-08-15\n",
      "  ProductID              ProductName     Category   Price\n",
      "0      P001     ActiveWear Biography        Books  169.30\n",
      "1      P002    ActiveWear Smartwatch  Electronics  346.30\n",
      "2      P003  ComfortLiving Biography        Books   44.12\n",
      "3      P004            BookWorld Rug   Home Decor   95.69\n",
      "4      P005          TechPro T-Shirt     Clothing  429.31\n",
      "  TransactionID CustomerID ProductID      TransactionDate  Quantity  \\\n",
      "0        T00001      C0199      P067  2024-08-25 12:38:23         1   \n",
      "1        T00112      C0146      P067  2024-05-27 22:23:54         1   \n",
      "2        T00166      C0127      P067  2024-04-25 07:38:55         1   \n",
      "3        T00272      C0087      P067  2024-03-26 22:55:37         2   \n",
      "4        T00363      C0070      P067  2024-03-21 15:10:10         3   \n",
      "\n",
      "   TotalValue   Price  \n",
      "0      300.68  300.68  \n",
      "1      300.68  300.68  \n",
      "2      300.68  300.68  \n",
      "3      601.36  300.68  \n",
      "4      902.04  300.68  \n"
     ]
    }
   ],
   "source": [
    "# Displaying the first few rows of each dataset to verify the data has loaded correctly\n",
    "print(customers.head())\n",
    "print(products.head())\n",
    "print(transactions.head())"
   ]
  },
  {
   "cell_type": "code",
   "execution_count": 68,
   "id": "b33a15ae-94d7-4d79-98b9-23d596276fd7",
   "metadata": {},
   "outputs": [
    {
     "name": "stdout",
     "output_type": "stream",
     "text": [
      "  TransactionID CustomerID ProductID      TransactionDate  Quantity  \\\n",
      "0        T00001      C0199      P067  2024-08-25 12:38:23         1   \n",
      "1        T00112      C0146      P067  2024-05-27 22:23:54         1   \n",
      "2        T00166      C0127      P067  2024-04-25 07:38:55         1   \n",
      "3        T00272      C0087      P067  2024-03-26 22:55:37         2   \n",
      "4        T00363      C0070      P067  2024-03-21 15:10:10         3   \n",
      "\n",
      "   TotalValue  Price_x                      ProductName     Category  Price_y  \n",
      "0      300.68   300.68  ComfortLiving Bluetooth Speaker  Electronics   300.68  \n",
      "1      300.68   300.68  ComfortLiving Bluetooth Speaker  Electronics   300.68  \n",
      "2      300.68   300.68  ComfortLiving Bluetooth Speaker  Electronics   300.68  \n",
      "3      601.36   300.68  ComfortLiving Bluetooth Speaker  Electronics   300.68  \n",
      "4      902.04   300.68  ComfortLiving Bluetooth Speaker  Electronics   300.68  \n"
     ]
    }
   ],
   "source": [
    "# Merging Transactions with Products on ProductID\n",
    "transactions_products = transactions.merge(products, on='ProductID', how='left')\n",
    "\n",
    "# Preview the merged data\n",
    "print(transactions_products.head())"
   ]
  },
  {
   "cell_type": "code",
   "execution_count": 69,
   "id": "4922aa9e-5486-4817-aa14-247ef4329114",
   "metadata": {},
   "outputs": [
    {
     "name": "stdout",
     "output_type": "stream",
     "text": [
      "  TransactionID CustomerID ProductID      TransactionDate  Quantity  \\\n",
      "0        T00001      C0199      P067  2024-08-25 12:38:23         1   \n",
      "1        T00112      C0146      P067  2024-05-27 22:23:54         1   \n",
      "2        T00166      C0127      P067  2024-04-25 07:38:55         1   \n",
      "3        T00272      C0087      P067  2024-03-26 22:55:37         2   \n",
      "4        T00363      C0070      P067  2024-03-21 15:10:10         3   \n",
      "\n",
      "   TotalValue  Price_x                      ProductName     Category  Price_y  \\\n",
      "0      300.68   300.68  ComfortLiving Bluetooth Speaker  Electronics   300.68   \n",
      "1      300.68   300.68  ComfortLiving Bluetooth Speaker  Electronics   300.68   \n",
      "2      300.68   300.68  ComfortLiving Bluetooth Speaker  Electronics   300.68   \n",
      "3      601.36   300.68  ComfortLiving Bluetooth Speaker  Electronics   300.68   \n",
      "4      902.04   300.68  ComfortLiving Bluetooth Speaker  Electronics   300.68   \n",
      "\n",
      "      CustomerName         Region  SignupDate  \n",
      "0   Andrea Jenkins         Europe  2022-12-03  \n",
      "1  Brittany Harvey           Asia  2024-09-04  \n",
      "2  Kathryn Stevens         Europe  2024-04-04  \n",
      "3  Travis Campbell  South America  2024-04-11  \n",
      "4    Timothy Perez         Europe  2022-03-15  \n"
     ]
    }
   ],
   "source": [
    "# Merging the transactions and products with Customers on CustomerID\n",
    "merged_data = transactions_products.merge(customers, on='CustomerID', how='left')\n",
    "\n",
    "# Preview the merged dataset\n",
    "print(merged_data.head())"
   ]
  },
  {
   "cell_type": "code",
   "execution_count": 70,
   "id": "d0ea7a66-c240-4537-bdcc-2e2528c3e859",
   "metadata": {},
   "outputs": [
    {
     "name": "stdout",
     "output_type": "stream",
     "text": [
      "  CustomerID  TotalSpending  TransactionCount PreferredCategory\n",
      "0      C0001        3354.52                 5       Electronics\n",
      "1      C0002        1862.74                 4          Clothing\n",
      "2      C0003        2725.38                 4        Home Decor\n",
      "3      C0004        5354.88                 8             Books\n",
      "4      C0005        2034.24                 3       Electronics\n"
     ]
    }
   ],
   "source": [
    "# Aggregate customer features\n",
    "customer_features = merged_data.groupby('CustomerID').agg({\n",
    "    'TotalValue': 'sum',               # Total spending\n",
    "    'TransactionID': 'count',          # Number of transactions\n",
    "    'Category': lambda x: x.mode()[0]  # Most frequent product category\n",
    "}).reset_index()\n",
    "\n",
    "# Renaming columns for clarity\n",
    "customer_features.columns = ['CustomerID', 'TotalSpending', 'TransactionCount', 'PreferredCategory']\n",
    "\n",
    "# Preview the aggregated features\n",
    "print(customer_features.head())\n"
   ]
  },
  {
   "cell_type": "code",
   "execution_count": 71,
   "id": "353b2541-a025-420f-8d00-8669535e636b",
   "metadata": {},
   "outputs": [
    {
     "name": "stdout",
     "output_type": "stream",
     "text": [
      "  CustomerID  TotalSpending  TransactionCount  PreferredCategory\n",
      "0      C0001        3354.52                 5                  2\n",
      "1      C0002        1862.74                 4                  1\n",
      "2      C0003        2725.38                 4                  3\n",
      "3      C0004        5354.88                 8                  0\n",
      "4      C0005        2034.24                 3                  2\n"
     ]
    }
   ],
   "source": [
    "# Encoding PreferredCategory\n",
    "customer_features['PreferredCategory'] = customer_features['PreferredCategory'].astype('category').cat.codes\n",
    "\n",
    "# Preview the dataset\n",
    "print(customer_features.head())\n"
   ]
  },
  {
   "cell_type": "code",
   "execution_count": 72,
   "id": "c363bbe1-415b-45c9-ada1-56a7907fa222",
   "metadata": {},
   "outputs": [
    {
     "name": "stdout",
     "output_type": "stream",
     "text": [
      "  CustomerID  TotalSpending  TransactionCount  PreferredCategory\n",
      "0      C0001      -0.061701         -0.011458                  2\n",
      "1      C0002      -0.877744         -0.467494                  1\n",
      "2      C0003      -0.405857         -0.467494                  3\n",
      "3      C0004       1.032547          1.356650                  0\n",
      "4      C0005      -0.783929         -0.923530                  2\n"
     ]
    }
   ],
   "source": [
    "from sklearn.preprocessing import StandardScaler\n",
    "\n",
    "# Initialize the scaler\n",
    "scaler = StandardScaler()\n",
    "\n",
    "# Normalize the numerical features\n",
    "customer_features[['TotalSpending', 'TransactionCount']] = scaler.fit_transform(\n",
    "    customer_features[['TotalSpending', 'TransactionCount']]\n",
    ")\n",
    "\n",
    "# Preview the normalized dataset\n",
    "print(customer_features.head())\n"
   ]
  },
  {
   "cell_type": "code",
   "execution_count": 77,
   "id": "1c2505e2-9cdc-4402-a977-145b9a157b49",
   "metadata": {},
   "outputs": [],
   "source": [
    "feature_matrix = customer_features[['TotalSpending', 'TransactionCount', 'PreferredCategory']]"
   ]
  },
  {
   "cell_type": "code",
   "execution_count": 78,
   "id": "6fe2cb58-717c-40bb-a11e-1bc2a891f2aa",
   "metadata": {},
   "outputs": [
    {
     "name": "stdout",
     "output_type": "stream",
     "text": [
      "CustomerID     C0001     C0002     C0003     C0004     C0005     C0006  \\\n",
      "CustomerID                                                               \n",
      "C0001       1.000000  0.729803  0.983842 -0.023232  0.867516 -0.016217   \n",
      "C0002       0.729803  1.000000  0.827480 -0.640708  0.946070 -0.166000   \n",
      "C0003       0.983842  0.827480  1.000000 -0.201686  0.942385  0.025963   \n",
      "C0004      -0.023232 -0.640708 -0.201686  1.000000 -0.517337 -0.191994   \n",
      "C0005       0.867516  0.946070  0.942385 -0.517337  1.000000  0.072263   \n",
      "\n",
      "CustomerID     C0007     C0008     C0009     C0010  ...     C0191     C0192  \\\n",
      "CustomerID                                          ...                       \n",
      "C0001       0.895151  0.784800  0.535544  0.706127  ...  0.031060  0.924329   \n",
      "C0002       0.898314  0.290823  0.965896  0.999094  ...  0.636535  0.934676   \n",
      "C0003       0.959306  0.669030  0.667608  0.805938  ...  0.139167  0.972679   \n",
      "C0004      -0.456122  0.547089 -0.810652 -0.651373  ... -0.640514 -0.380661   \n",
      "C0005       0.992201  0.402028  0.864290  0.931430  ...  0.352538  0.981776   \n",
      "\n",
      "CustomerID     C0193     C0194     C0195     C0196     C0197     C0198  \\\n",
      "CustomerID                                                               \n",
      "C0001       0.019613 -0.012875  0.979562  0.945439  0.860917  0.478000   \n",
      "C0002       0.586164 -0.469608  0.585862  0.561159  0.953293  0.923788   \n",
      "C0003       0.197102 -0.179680  0.927941  0.921278  0.937641  0.625243   \n",
      "C0004      -0.987453  0.916656  0.177868  0.041337 -0.527785 -0.882004   \n",
      "C0005       0.506491 -0.463199  0.749855  0.785644  0.999734  0.848976   \n",
      "\n",
      "CustomerID     C0199     C0200  \n",
      "CustomerID                      \n",
      "C0001       0.917379  0.798608  \n",
      "C0002       0.941326  0.223164  \n",
      "C0003       0.967680  0.724881  \n",
      "C0004      -0.391517  0.341959  \n",
      "C0005       0.981393  0.508870  \n",
      "\n",
      "[5 rows x 199 columns]\n"
     ]
    }
   ],
   "source": [
    "from sklearn.metrics.pairwise import cosine_similarity\n",
    "import pandas as pd\n",
    "\n",
    "# Compute cosine similarity\n",
    "similarity_matrix = cosine_similarity(feature_matrix)\n",
    "\n",
    "# Convert similarity matrix to a DataFrame for easier interpretation\n",
    "similarity_df = pd.DataFrame(\n",
    "    similarity_matrix, \n",
    "    index=customer_features['CustomerID'], \n",
    "    columns=customer_features['CustomerID']\n",
    ")\n",
    "\n",
    "# Preview the similarity matrix\n",
    "print(similarity_df.head())\n"
   ]
  },
  {
   "cell_type": "code",
   "execution_count": 79,
   "id": "3ea9255c-5b9c-40a1-98b5-6613f1d9ce36",
   "metadata": {},
   "outputs": [
    {
     "name": "stdout",
     "output_type": "stream",
     "text": [
      "{'C0001': [('C0152', 1.0), ('C0164', 1.0), ('C0160', 1.0)], 'C0002': [('C0029', 1.0), ('C0010', 1.0), ('C0060', 0.98)], 'C0003': [('C0178', 1.0), ('C0052', 1.0), ('C0166', 1.0)], 'C0004': [('C0021', 1.0), ('C0075', 1.0), ('C0156', 1.0)], 'C0005': [('C0112', 1.0), ('C0197', 1.0), ('C0186', 1.0)], 'C0006': [('C0117', 0.99), ('C0168', 0.94), ('C0185', 0.73)], 'C0007': [('C0092', 1.0), ('C0120', 1.0), ('C0133', 1.0)], 'C0008': [('C0084', 0.99), ('C0162', 0.98), ('C0113', 0.97)], 'C0009': [('C0077', 1.0), ('C0083', 1.0), ('C0062', 0.99)], 'C0010': [('C0029', 1.0), ('C0002', 1.0), ('C0009', 0.97)], 'C0011': [('C0064', 1.0), ('C0187', 1.0), ('C0018', 1.0)], 'C0012': [('C0105', 1.0), ('C0039', 0.99), ('C0067', 0.99)], 'C0013': [('C0143', 1.0), ('C0054', 1.0), ('C0099', 0.99)], 'C0014': [('C0151', 1.0), ('C0097', 1.0), ('C0060', 1.0)], 'C0015': [('C0131', 1.0), ('C0036', 1.0), ('C0132', 1.0)], 'C0016': [('C0183', 1.0), ('C0170', 1.0), ('C0182', 1.0)], 'C0017': [('C0090', 1.0), ('C0175', 0.99), ('C0075', 0.99)], 'C0018': [('C0187', 1.0), ('C0171', 1.0), ('C0064', 1.0)], 'C0019': [('C0116', 0.96), ('C0174', 0.82), ('C0191', 0.82)], 'C0020': [('C0061', 1.0), ('C0176', 1.0), ('C0129', 1.0)]}\n"
     ]
    }
   ],
   "source": [
    "# Define a dictionary to store lookalike results\n",
    "lookalike_results = {}\n",
    "\n",
    "# Extract top 3 similar customers for the first 20 customers\n",
    "for customer_id in customer_features['CustomerID'][:20]:\n",
    "    # Sort similar customers in descending order (exclude self)\n",
    "    similar_customers = similarity_df[customer_id].sort_values(ascending=False).iloc[1:4]\n",
    "    \n",
    "    # Store the results in the dictionary\n",
    "    lookalike_results[customer_id] = [(index, round(score, 2)) for index, score in similar_customers.items()]\n",
    "\n",
    "# Preview the lookalike results\n",
    "print(lookalike_results)\n"
   ]
  },
  {
   "cell_type": "code",
   "execution_count": 80,
   "id": "6fa0c495-a286-410f-997b-8fb3f46aadc0",
   "metadata": {},
   "outputs": [
    {
     "name": "stdout",
     "output_type": "stream",
     "text": [
      "  cust_id                                  similar_customers\n",
      "0   C0001   [('C0152', 1.0), ('C0164', 1.0), ('C0160', 1.0)]\n",
      "1   C0002  [('C0029', 1.0), ('C0010', 1.0), ('C0060', 0.98)]\n",
      "2   C0003   [('C0178', 1.0), ('C0052', 1.0), ('C0166', 1.0)]\n",
      "3   C0004   [('C0021', 1.0), ('C0075', 1.0), ('C0156', 1.0)]\n",
      "4   C0005   [('C0112', 1.0), ('C0197', 1.0), ('C0186', 1.0)]\n"
     ]
    }
   ],
   "source": [
    "# Convert results to a DataFrame for saving\n",
    "lookalike_csv = pd.DataFrame({\n",
    "    'cust_id': lookalike_results.keys(),\n",
    "    'similar_customers': [str(value) for value in lookalike_results.values()]\n",
    "})\n",
    "\n",
    "# Save to CSV\n",
    "lookalike_csv.to_csv('Lookalike.csv', index=False)\n",
    "\n",
    "# Preview the saved file\n",
    "print(lookalike_csv.head())"
   ]
  },
  {
   "cell_type": "code",
   "execution_count": null,
   "id": "842273cb-b7d9-4cf3-bc16-0378db379369",
   "metadata": {},
   "outputs": [],
   "source": []
  }
 ],
 "metadata": {
  "kernelspec": {
   "display_name": "Python 3 (ipykernel)",
   "language": "python",
   "name": "python3"
  },
  "language_info": {
   "codemirror_mode": {
    "name": "ipython",
    "version": 3
   },
   "file_extension": ".py",
   "mimetype": "text/x-python",
   "name": "python",
   "nbconvert_exporter": "python",
   "pygments_lexer": "ipython3",
   "version": "3.12.0"
  }
 },
 "nbformat": 4,
 "nbformat_minor": 5
}
