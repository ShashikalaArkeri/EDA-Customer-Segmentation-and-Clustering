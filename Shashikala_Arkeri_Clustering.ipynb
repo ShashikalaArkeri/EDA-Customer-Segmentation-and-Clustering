{
 "cells": [
  {
   "cell_type": "code",
   "execution_count": 92,
   "id": "832f53ef-ac74-460c-86ea-35f9e04e00d1",
   "metadata": {},
   "outputs": [],
   "source": [
    "# Importing library\n",
    "import pandas as pd"
   ]
  },
  {
   "cell_type": "code",
   "execution_count": 93,
   "id": "11d896d0-a19a-46cf-bbfc-201f2d066692",
   "metadata": {},
   "outputs": [],
   "source": [
    "# Loading the datasets from local files\n",
    "customers = pd.read_csv(r\"C:\\Users\\Windows 10\\Downloads\\Customers.csv\")\n",
    "products = pd.read_csv(r\"C:\\Users\\Windows 10\\Downloads\\Products.csv\")\n",
    "transactions = pd.read_csv(r\"C:\\Users\\Windows 10\\Downloads\\Transactions.csv\")"
   ]
  },
  {
   "cell_type": "code",
   "execution_count": 94,
   "id": "f4a8e133-21c0-4ee6-b7d9-47e9df18d7c3",
   "metadata": {},
   "outputs": [
    {
     "name": "stdout",
     "output_type": "stream",
     "text": [
      "  CustomerID        CustomerName         Region  SignupDate\n",
      "0      C0001    Lawrence Carroll  South America  2022-07-10\n",
      "1      C0002      Elizabeth Lutz           Asia  2022-02-13\n",
      "2      C0003      Michael Rivera  South America  2024-03-07\n",
      "3      C0004  Kathleen Rodriguez  South America  2022-10-09\n",
      "4      C0005         Laura Weber           Asia  2022-08-15\n",
      "  ProductID              ProductName     Category   Price\n",
      "0      P001     ActiveWear Biography        Books  169.30\n",
      "1      P002    ActiveWear Smartwatch  Electronics  346.30\n",
      "2      P003  ComfortLiving Biography        Books   44.12\n",
      "3      P004            BookWorld Rug   Home Decor   95.69\n",
      "4      P005          TechPro T-Shirt     Clothing  429.31\n",
      "  TransactionID CustomerID ProductID      TransactionDate  Quantity  \\\n",
      "0        T00001      C0199      P067  2024-08-25 12:38:23         1   \n",
      "1        T00112      C0146      P067  2024-05-27 22:23:54         1   \n",
      "2        T00166      C0127      P067  2024-04-25 07:38:55         1   \n",
      "3        T00272      C0087      P067  2024-03-26 22:55:37         2   \n",
      "4        T00363      C0070      P067  2024-03-21 15:10:10         3   \n",
      "\n",
      "   TotalValue   Price  \n",
      "0      300.68  300.68  \n",
      "1      300.68  300.68  \n",
      "2      300.68  300.68  \n",
      "3      601.36  300.68  \n",
      "4      902.04  300.68  \n"
     ]
    }
   ],
   "source": [
    "# Displaying the first few rows of each dataset to verify the data has loaded correctly\n",
    "print(customers.head())\n",
    "print(products.head())\n",
    "print(transactions.head())"
   ]
  },
  {
   "cell_type": "code",
   "execution_count": 96,
   "id": "b33a15ae-94d7-4d79-98b9-23d596276fd7",
   "metadata": {},
   "outputs": [
    {
     "name": "stdout",
     "output_type": "stream",
     "text": [
      "  TransactionID CustomerID ProductID      TransactionDate  Quantity  \\\n",
      "0        T00001      C0199      P067  2024-08-25 12:38:23         1   \n",
      "1        T00112      C0146      P067  2024-05-27 22:23:54         1   \n",
      "2        T00166      C0127      P067  2024-04-25 07:38:55         1   \n",
      "3        T00272      C0087      P067  2024-03-26 22:55:37         2   \n",
      "4        T00363      C0070      P067  2024-03-21 15:10:10         3   \n",
      "\n",
      "   TotalValue  Price_x                      ProductName     Category  Price_y  \\\n",
      "0      300.68   300.68  ComfortLiving Bluetooth Speaker  Electronics   300.68   \n",
      "1      300.68   300.68  ComfortLiving Bluetooth Speaker  Electronics   300.68   \n",
      "2      300.68   300.68  ComfortLiving Bluetooth Speaker  Electronics   300.68   \n",
      "3      601.36   300.68  ComfortLiving Bluetooth Speaker  Electronics   300.68   \n",
      "4      902.04   300.68  ComfortLiving Bluetooth Speaker  Electronics   300.68   \n",
      "\n",
      "      CustomerName         Region  SignupDate  \n",
      "0   Andrea Jenkins         Europe  2022-12-03  \n",
      "1  Brittany Harvey           Asia  2024-09-04  \n",
      "2  Kathryn Stevens         Europe  2024-04-04  \n",
      "3  Travis Campbell  South America  2024-04-11  \n",
      "4    Timothy Perez         Europe  2022-03-15  \n"
     ]
    }
   ],
   "source": [
    "# Merge Transactions and Products on 'ProductID'\n",
    "transactions_products = transactions.merge(products, on='ProductID', how='left')\n",
    "\n",
    "# Merge the result with Customers on 'CustomerID'\n",
    "merged_data = transactions_products.merge(customers, on='CustomerID', how='left')\n",
    "\n",
    "# Display the first few rows to confirm the merge\n",
    "print(merged_data.head())"
   ]
  },
  {
   "cell_type": "code",
   "execution_count": 98,
   "id": "aaa65573-44a7-4b67-bc03-134b4de95002",
   "metadata": {},
   "outputs": [
    {
     "name": "stdout",
     "output_type": "stream",
     "text": [
      "  CustomerID  TotalSpending  TransactionCount PreferredCategory  \\\n",
      "0      C0001        3354.52                 5       Electronics   \n",
      "1      C0002        1862.74                 4          Clothing   \n",
      "2      C0003        2725.38                 4        Home Decor   \n",
      "3      C0004        5354.88                 8             Books   \n",
      "4      C0005        2034.24                 3       Electronics   \n",
      "\n",
      "   AvgProductPrice  \n",
      "0       278.334000  \n",
      "1       208.920000  \n",
      "2       195.707500  \n",
      "3       240.636250  \n",
      "4       291.603333  \n"
     ]
    }
   ],
   "source": [
    "# Aggregate customer transaction data\n",
    "transactions_summary = merged_data.groupby('CustomerID').agg({\n",
    "    'TotalValue': 'sum',                   # Total spending\n",
    "    'TransactionID': 'count',              # Number of transactions\n",
    "    'Category': lambda x: x.mode()[0],     # Most frequently purchased category\n",
    "    'Price_y': 'mean'                      # Average product price\n",
    "}).reset_index()\n",
    "\n",
    "# Rename columns for clarity\n",
    "transactions_summary.columns = [\n",
    "    'CustomerID', 'TotalSpending', 'TransactionCount', 'PreferredCategory', 'AvgProductPrice'\n",
    "]\n",
    "\n",
    "# Preview the aggregated data\n",
    "print(transactions_summary.head())\n"
   ]
  },
  {
   "cell_type": "code",
   "execution_count": 99,
   "id": "80cd2cb6-6ecd-41ca-aabc-54e8a6f470b9",
   "metadata": {},
   "outputs": [
    {
     "name": "stdout",
     "output_type": "stream",
     "text": [
      "  CustomerID        CustomerName         Region  SignupDate  TotalSpending  \\\n",
      "0      C0001    Lawrence Carroll  South America  2022-07-10        3354.52   \n",
      "1      C0002      Elizabeth Lutz           Asia  2022-02-13        1862.74   \n",
      "2      C0003      Michael Rivera  South America  2024-03-07        2725.38   \n",
      "3      C0004  Kathleen Rodriguez  South America  2022-10-09        5354.88   \n",
      "4      C0005         Laura Weber           Asia  2022-08-15        2034.24   \n",
      "\n",
      "   TransactionCount PreferredCategory  AvgProductPrice  \n",
      "0               5.0       Electronics       278.334000  \n",
      "1               4.0          Clothing       208.920000  \n",
      "2               4.0        Home Decor       195.707500  \n",
      "3               8.0             Books       240.636250  \n",
      "4               3.0       Electronics       291.603333  \n"
     ]
    }
   ],
   "source": [
    "# Merge aggregated data with customer profiles\n",
    "customer_data = customers.merge(transactions_summary, on='CustomerID', how='left')\n",
    "\n",
    "# Preview the combined dataset\n",
    "print(customer_data.head())\n"
   ]
  },
  {
   "cell_type": "code",
   "execution_count": 101,
   "id": "43ac3dbf-b3c4-4f98-89fd-2c92d7f5bb0c",
   "metadata": {},
   "outputs": [
    {
     "name": "stdout",
     "output_type": "stream",
     "text": [
      "     Region  TotalSpending  TransactionCount  PreferredCategory  \\\n",
      "0  1.241384      -0.051884          0.000000           0.606977   \n",
      "1 -1.409258      -0.862714         -0.451294          -0.260133   \n",
      "2  1.241384      -0.393842         -0.451294           1.474087   \n",
      "3  1.241384       1.035375          1.353881          -1.127243   \n",
      "4 -1.409258      -0.769499         -0.902587           0.606977   \n",
      "\n",
      "   AvgProductPrice  \n",
      "0         0.110366  \n",
      "1        -0.854626  \n",
      "2        -1.038306  \n",
      "3        -0.413708  \n",
      "4         0.294836  \n"
     ]
    }
   ],
   "source": [
    "# Encoding and Normalization\n",
    "from sklearn.preprocessing import StandardScaler\n",
    "\n",
    "# Encode categorical variables\n",
    "customer_data['Region'] = customer_data['Region'].astype('category').cat.codes\n",
    "customer_data['PreferredCategory'] = customer_data['PreferredCategory'].astype('category').cat.codes\n",
    "\n",
    "# Fill missing values (if any)\n",
    "customer_data.fillna(0, inplace=True)\n",
    "\n",
    "# Select features for clustering\n",
    "features = customer_data[['Region', 'TotalSpending', 'TransactionCount', 'PreferredCategory', 'AvgProductPrice']]\n",
    "\n",
    "# Normalize numerical features\n",
    "scaler = StandardScaler()\n",
    "scaled_features = scaler.fit_transform(features)\n",
    "\n",
    "# Convert back to DataFrame for clarity\n",
    "scaled_features_df = pd.DataFrame(scaled_features, columns=features.columns)\n",
    "\n",
    "# Preview normalized features\n",
    "print(scaled_features_df.head())\n"
   ]
  },
  {
   "cell_type": "code",
   "execution_count": 118,
   "id": "8bebb3ed-7fb6-4188-811b-a44f02f8d159",
   "metadata": {},
   "outputs": [
    {
     "name": "stdout",
     "output_type": "stream",
     "text": [
      "Davies-Bouldin Index for k=8: 1.25\n"
     ]
    }
   ],
   "source": [
    "from sklearn.cluster import KMeans\n",
    "from sklearn.metrics import davies_bouldin_score\n",
    "\n",
    "# Apply KMeans clustering with k=8\n",
    "kmeans = KMeans(n_clusters=8, random_state=42)\n",
    "customer_data['Cluster'] = kmeans.fit_predict(scaled_features)\n",
    "\n",
    "# Calculate DB Index for k=8\n",
    "db_index = davies_bouldin_score(scaled_features, customer_data['Cluster'])\n",
    "print(f\"Davies-Bouldin Index for k=8: {db_index:.2f}\")\n"
   ]
  },
  {
   "cell_type": "code",
   "execution_count": 119,
   "id": "79817958-532c-42f2-bbae-87d9cbf81bfd",
   "metadata": {},
   "outputs": [
    {
     "name": "stdout",
     "output_type": "stream",
     "text": [
      "         TotalSpending  TransactionCount  AvgProductPrice    Region  \\\n",
      "Cluster                                                               \n",
      "0          5612.727083          7.625000       273.455711  0.333333   \n",
      "1          2353.073000          2.800000       355.759525  2.200000   \n",
      "2          2379.964286          3.892857       253.854202  0.607143   \n",
      "3          3189.944062          3.968750       305.147528  0.593750   \n",
      "4          2714.135185          5.074074       224.408590  2.444444   \n",
      "5          6086.490000          7.947368       292.326822  2.684211   \n",
      "6           943.738333          2.500000       139.936389  1.833333   \n",
      "7          4174.974688          6.000000       293.630206  2.531250   \n",
      "\n",
      "         PreferredCategory  \n",
      "Cluster                     \n",
      "0                 0.875000  \n",
      "1                 1.050000  \n",
      "2                 0.428571  \n",
      "3                 2.562500  \n",
      "4                 2.296296  \n",
      "5                 1.894737  \n",
      "6                 1.166667  \n",
      "7                 0.156250  \n"
     ]
    }
   ],
   "source": [
    "# Analyze cluster characteristics\n",
    "cluster_analysis = customer_data.groupby('Cluster')[['TotalSpending', 'TransactionCount', 'AvgProductPrice', 'Region', 'PreferredCategory']].mean()\n",
    "\n",
    "# Preview the cluster characteristics\n",
    "print(cluster_analysis)\n"
   ]
  },
  {
   "cell_type": "code",
   "execution_count": 115,
   "id": "17a4987f-7445-40b3-b544-4409914730c3",
   "metadata": {},
   "outputs": [
    {
     "name": "stdout",
     "output_type": "stream",
     "text": [
      "         TotalSpending  TransactionCount  AvgProductPrice    Region  \\\n",
      "Cluster                                                               \n",
      "0          5612.727083          7.625000       273.455711  0.333333   \n",
      "1          2353.073000          2.800000       355.759525  2.200000   \n",
      "2          2379.964286          3.892857       253.854202  0.607143   \n",
      "3          3189.944062          3.968750       305.147528  0.593750   \n",
      "4          2714.135185          5.074074       224.408590  2.444444   \n",
      "5          6086.490000          7.947368       292.326822  2.684211   \n",
      "6           943.738333          2.500000       139.936389  1.833333   \n",
      "7          4174.974688          6.000000       293.630206  2.531250   \n",
      "\n",
      "         PreferredCategory  \n",
      "Cluster                     \n",
      "0                 0.875000  \n",
      "1                 1.050000  \n",
      "2                 0.428571  \n",
      "3                 2.562500  \n",
      "4                 2.296296  \n",
      "5                 1.894737  \n",
      "6                 1.166667  \n",
      "7                 0.156250  \n"
     ]
    }
   ],
   "source": [
    "# Select only numeric columns for cluster analysis\n",
    "numeric_columns = ['TotalSpending', 'TransactionCount', 'AvgProductPrice', 'Region', 'PreferredCategory']\n",
    "\n",
    "# Analyze clusters by calculating the mean of numeric features within each cluster\n",
    "cluster_analysis = customer_data.groupby('Cluster')[numeric_columns].mean()\n",
    "\n",
    "# Preview the cluster characteristics\n",
    "print(cluster_analysis)\n"
   ]
  },
  {
   "cell_type": "code",
   "execution_count": 120,
   "id": "e03294bd-938f-4df7-a3fe-85be21c29b0d",
   "metadata": {},
   "outputs": [
    {
     "data": {
      "image/png": "[encoded data removed]",
      "text/plain": [
       "<Figure size 1000x600 with 1 Axes>"
      ]
     },
     "metadata": {},
     "output_type": "display_data"
    }
   ],
   "source": [
    "# Bar plot for cluster characteristics\n",
    "cluster_analysis[['TotalSpending', 'TransactionCount', 'AvgProductPrice']].plot(\n",
    "    kind='bar', figsize=(10, 6), colormap='viridis'\n",
    ")\n",
    "plt.title('Cluster Characteristics (k=8)')\n",
    "plt.xlabel('Cluster')\n",
    "plt.ylabel('Average Value')\n",
    "plt.xticks(rotation=0)\n",
    "plt.legend(title='Metrics')\n",
    "plt.show()\n"
   ]
  },
  {
   "cell_type": "code",
   "execution_count": 121,
   "id": "63ef94ac-a868-461f-9096-26225b647f43",
   "metadata": {},
   "outputs": [
    {
     "data": {
      "image/png": "[encoded data removed]",
      "text/plain": [
       "<Figure size 640x480 with 1 Axes>"
      ]
     },
     "metadata": {},
     "output_type": "display_data"
    }
   ],
   "source": [
    "import seaborn as sns\n",
    "\n",
    "# Preferred category distribution\n",
    "sns.countplot(\n",
    "    data=customer_data, x='Cluster', hue='PreferredCategory', palette='tab10'\n",
    ")\n",
    "plt.title('Preferred Category Distribution by Cluster (k=8)')\n",
    "plt.xlabel('Cluster')\n",
    "plt.ylabel('Count')\n",
    "plt.legend(title='Preferred Category')\n",
    "plt.show()\n"
   ]
  },
  {
   "cell_type": "code",
   "execution_count": null,
   "id": "ee7cf6f2-9551-4ade-bf84-fccdf485dc41",
   "metadata": {},
   "outputs": [],
   "source": []
  }
 ],
 "metadata": {
  "kernelspec": {
   "display_name": "Python 3 (ipykernel)",
   "language": "python",
   "name": "python3"
  },
  "language_info": {
   "codemirror_mode": {
    "name": "ipython",
    "version": 3
   },
   "file_extension": ".py",
   "mimetype": "text/x-python",
   "name": "python",
   "nbconvert_exporter": "python",
   "pygments_lexer": "ipython3",
   "version": "3.12.0"
  }
 },
 "nbformat": 4,
 "nbformat_minor": 5
}
